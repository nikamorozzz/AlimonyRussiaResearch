{
 "cells": [
  {
   "cell_type": "markdown",
   "metadata": {},
   "source": [
    "# Анализ текстов судебных решений\n",
    "\n",
    "ВКР \"Алименты в России: медиапроект, основанный на данных\"\n",
    "\n",
    "Морозова Николь, НИУ ВШЭ, магистерская программа Журналистика данных\n",
    "\n",
    "Руководитель: м.с.н., Груздев И.А."
   ]
  },
  {
   "cell_type": "markdown",
   "metadata": {},
   "source": [
    "### Выборка\n",
    "Предмет: Статья 157. Неуплата средств на содержание детей или нетрудоспособных родителей (Уголовный Кодекс)\n",
    "\n",
    "Хронологические рамки: 1 января 2018 – 31 декабря 2018\n",
    "\n",
    "Источник: https://sudact.ru/"
   ]
  },
  {
   "cell_type": "code",
   "execution_count": 104,
   "metadata": {},
   "outputs": [],
   "source": [
    "# загружаем спаршенный набор текстов\n",
    "import json\n",
    "\n",
    "with open('/Users/Nikol/Desktop/ВКР/sudact/uk_texts_2018.json') as f:\n",
    "    uk_all = json.load(f)"
   ]
  },
  {
   "cell_type": "markdown",
   "metadata": {},
   "source": [
    "### Исключаем лишнее, оставляем только приговоры"
   ]
  },
  {
   "cell_type": "code",
   "execution_count": 107,
   "metadata": {},
   "outputs": [
    {
     "name": "stdout",
     "output_type": "stream",
     "text": [
      "Первоначальная выборка: 1513 текстов. Новая: 1045 текстов.\n"
     ]
    }
   ],
   "source": [
    "only_prigs = []\n",
    "for text in uk_all:\n",
    "    text_type = text.split(' № ')[0]\n",
    "    if 'приг' in text_type.lower():\n",
    "        only_prigs.append(text)\n",
    "print('Первоначальная выборка: {} текстов. Новая: {} текстов.'.format(len(uk_all),len(only_prigs)))"
   ]
  },
  {
   "cell_type": "code",
   "execution_count": 108,
   "metadata": {},
   "outputs": [],
   "source": [
    "def find_word(lines, searched_line):\n",
    "    for iline in range(len(lines)):\n",
    "        line = lines[iline].replace(' ', '').lower()\n",
    "        if searched_line in line:\n",
    "            return iline\n",
    "    return False\n",
    "\n",
    "def get_region(lines):\n",
    "    region = lines[1].split('(')[1].split(')')[0]\n",
    "    return region\n",
    "\n",
    "def get_sex(lines):\n",
    "    for iline in range(len(lines)):\n",
    "        if ('обвиняемого' in lines[iline]):\n",
    "            return 'муж'\n",
    "        if ('обвиняемой' in lines[iline]):\n",
    "            return 'жен'\n",
    "\n",
    "def get_crime(lines):\n",
    "    s2 = find_word(lines,'установил')\n",
    "\n",
    "    for iline in range(len(lines)):\n",
    "        if 'предусмотрен' in lines[iline].lower():\n",
    "            crime_mention = iline\n",
    "            break\n",
    "\n",
    "    try:\n",
    "        crime_line = ' '.join(lines[crime_mention:s2]).split('предусмотрен')[1].split(' ')[1:]\n",
    "        crime = ' '.join(crime_line).split('У')[0]\n",
    "        return crime\n",
    "\n",
    "    except:\n",
    "        return\n",
    "\n",
    "def get_record(lines):\n",
    "    s2 = find_word(lines,'установил')\n",
    "\n",
    "    crime_rec = 'no'\n",
    "    crime_rec_info = 'no'\n",
    "\n",
    "    for iline in range(len(lines[:s2])):\n",
    "        if 'ранее судим' in lines[iline].lower():\n",
    "            crime_rec = 'yes'\n",
    "            break\n",
    "\n",
    "    return crime_rec\n",
    "\n",
    "def get_record_crimes(lines):\n",
    "    s2 = find_word(lines,'установил')\n",
    "\n",
    "    crime_rec = 'no'\n",
    "    crime_rec_info = 'no'\n",
    "\n",
    "    for iline in range(len(lines[:s2])):\n",
    "        if 'ранее судим' in lines[iline]:\n",
    "            crime_rec = 'yes'\n",
    "            crime_rec_info = ' '.join(lines[iline:s2])\n",
    "            break\n",
    "\n",
    "    crime_rec_info_lst = []\n",
    "    crime_rec_info_lst = crime_rec_info.split('ст.')\n",
    "    rec_crimes_lst = []\n",
    "\n",
    "    for line in crime_rec_info_lst:\n",
    "        if any([str(i) in line for i in range(10)]) and ('У' in line) and ('К'in line):\n",
    "            rec_crime = str(line).split('У')[0]\n",
    "            rec_crimes_lst.append(rec_crime)\n",
    "    if len(rec_crimes_lst) > 0:\n",
    "        return rec_crimes_lst\n",
    "    else:\n",
    "        return 'no'\n",
    "\n",
    "def compile_dict(text):\n",
    "    lines = text.split('\\n')\n",
    "    case = {}\n",
    "    case['region'] = get_region(lines)\n",
    "    case['sex'] = get_sex(lines)\n",
    "    case['crime'] = get_crime(lines)\n",
    "    case['record'] = get_record(lines)\n",
    "    case['record_crimes'] = get_record_crimes(lines)\n",
    "    return case"
   ]
  },
  {
   "cell_type": "code",
   "execution_count": 109,
   "metadata": {},
   "outputs": [],
   "source": [
    "details_uk = []\n",
    "for text in only_prigs:\n",
    "    details_uk.append(compile_dict(text))"
   ]
  },
  {
   "cell_type": "code",
   "execution_count": 110,
   "metadata": {},
   "outputs": [],
   "source": [
    "# сохраняем результат в новом файле json\n",
    "import json\n",
    "\n",
    "with open('/Users/Nikol/Desktop/ВКР/sudact/sudact_157_output_18.json', 'w+') as f:\n",
    "    json.dump(obj=details_uk, fp=f)"
   ]
  },
  {
   "cell_type": "code",
   "execution_count": 111,
   "metadata": {},
   "outputs": [
    {
     "data": {
      "text/plain": [
       "True"
      ]
     },
     "execution_count": 111,
     "metadata": {},
     "output_type": "execute_result"
    }
   ],
   "source": [
    "# проверяем список и сохраненный файл на идентичность\n",
    "\n",
    "with open('/Users/Nikol/Desktop/ВКР/sudact/sudact_157_output_18.json') as f:\n",
    "    details_uk1 = json.load(f)\n",
    "\n",
    "details_uk1 == details_uk"
   ]
  }
 ],
 "metadata": {
  "kernelspec": {
   "display_name": "Python 3",
   "language": "python",
   "name": "python3"
  },
  "language_info": {
   "codemirror_mode": {
    "name": "ipython",
    "version": 3
   },
   "file_extension": ".py",
   "mimetype": "text/x-python",
   "name": "python",
   "nbconvert_exporter": "python",
   "pygments_lexer": "ipython3",
   "version": "3.7.0"
  }
 },
 "nbformat": 4,
 "nbformat_minor": 2
}
