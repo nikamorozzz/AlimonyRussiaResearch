{
 "cells": [
  {
   "cell_type": "markdown",
   "metadata": {},
   "source": [
    "# Скачивание текстов судебных решений\n",
    "\n",
    "ВКР \"Алименты в России: медиапроект, основанный на данных\"\n",
    "\n",
    "Морозова Николь, НИУ ВШЭ, программа Журналистика данных\n",
    "\n",
    "Руководитель: м.с.н., Груздев И.А."
   ]
  },
  {
   "cell_type": "code",
   "execution_count": 2,
   "metadata": {},
   "outputs": [],
   "source": [
    "#установка пакета для автоматизированного управления веб-браузером\n",
    "from selenium import webdriver\n",
    "from selenium.webdriver.common.by import By\n",
    "from selenium.webdriver.support.ui import WebDriverWait\n",
    "from selenium.webdriver.support import expected_conditions as EC\n",
    "chrome_path = r'/Users/Nikol/Desktop/ВКР/sudact/chromedriver' #path from 'which chromedriver'"
   ]
  },
  {
   "cell_type": "code",
   "execution_count": 78,
   "metadata": {},
   "outputs": [],
   "source": [
    "# ссылка на страницу \"Судакт\", с которой будут скачиваться данные\n",
    "url = 'https://sudact.ru/regular/doc/?regular-txt=&regular-case_doc=&regular-lawchunkinfo=%D0%A1%D1%82%D0%B0%D1%82%D1%8C%D1%8F+81.+%D0%A0%D0%B0%D0%B7%D0%BC%D0%B5%D1%80+%D0%B0%D0%BB%D0%B8%D0%BC%D0%B5%D0%BD%D1%82%D0%BE%D0%B2%2C+%D0%B2%D0%B7%D1%8B%D1%81%D0%BA%D0%B8%D0%B2%D0%B0%D0%B5%D0%BC%D1%8B%D1%85+%D0%BD%D0%B0+%D0%BD%D0%B5%D1%81%D0%BE%D0%B2%D0%B5%D1%80%D1%88%D0%B5%D0%BD%D0%BD%D0%BE%D0%BB%D0%B5%D1%82%D0%BD%D0%B8%D1%85+%D0%B4%D0%B5%D1%82%D0%B5%D0%B9+%D0%B2+%D1%81%D1%83%D0%B4%D0%B5%D0%B1%D0%BD%D0%BE%D0%BC+%D0%BF%D0%BE%D1%80%D1%8F%D0%B4%D0%BA%D0%B5%28%D0%A1%D0%9A+%D0%A0%D0%A4%29&regular-date_from=01.01.2018&regular-date_to=31.12.2018&regular-workflow_stage=10&regular-area=&regular-court=&regular-judge=#searchResult'"
   ]
  },
  {
   "cell_type": "code",
   "execution_count": 3,
   "metadata": {},
   "outputs": [],
   "source": [
    "#1. Сохраняем ссылки на страницы с текстами судебных решений в список\n",
    "#2. Переходим на следующую страницу\n",
    "driver = webdriver.Chrome(executable_path=chrome_path)\n",
    "driver.get(url)\n",
    "\n",
    "lst_of_links = set([])\n",
    "do_more_search = True\n",
    "\n",
    "while do_more_search:\n",
    "      \n",
    "    element = WebDriverWait(driver, 10).until(\n",
    "        EC.presence_of_element_located((By.CLASS_NAME, \"page-next\"))\n",
    "    )\n",
    "    results = driver.find_element_by_class_name('results')\n",
    "    for i in results.find_elements_by_tag_name('a'):\n",
    "        link = i.get_attribute('href')\n",
    "        if link in lst_of_links:\n",
    "            do_more_search = False\n",
    "        else:\n",
    "            lst_of_links.add(link)\n",
    "    next_btn = driver.find_element_by_class_name('page-next')\n",
    "    next_btn.click()\n",
    "    \n",
    "lst_of_links = list(lst_of_links)"
   ]
  },
  {
   "cell_type": "code",
   "execution_count": 6,
   "metadata": {},
   "outputs": [
    {
     "name": "stdout",
     "output_type": "stream",
     "text": [
      "Собрано ссылок: 243.\n"
     ]
    }
   ],
   "source": [
    "# Мы получили список ссылок на тексты судебных решений\n",
    "print('Собрано ссылок: {}.'.format(len(lst_of_links)))"
   ]
  },
  {
   "cell_type": "code",
   "execution_count": 7,
   "metadata": {},
   "outputs": [],
   "source": [
    "# Переходим по ссылкам, скачиваем текст и складываем в список\n",
    "all_texts = []\n",
    "for element in lst_of_links:\n",
    "    driver = webdriver.Chrome(executable_path=chrome_path)\n",
    "    driver.get(element)\n",
    "    page_text = driver.find_element_by_class_name('h-content-wrap2')\n",
    "    all_texts.append(page_text.text)\n",
    "    driver.quit()"
   ]
  },
  {
   "cell_type": "code",
   "execution_count": 17,
   "metadata": {},
   "outputs": [
    {
     "name": "stdout",
     "output_type": "stream",
     "text": [
      "Собрано текстов: 243.\n"
     ]
    }
   ],
   "source": [
    "# Мы получили список, состоящий из текстов\n",
    "print('Собрано текстов: {}.'.format(len(all_texts)))"
   ]
  },
  {
   "cell_type": "code",
   "execution_count": 19,
   "metadata": {},
   "outputs": [],
   "source": [
    "# сохраняем тексты в формате json\n",
    "import json\n",
    "\n",
    "with open('/Users/Nikol/Desktop/ВКР/sudact/all_texts.json', 'w+') as f:\n",
    "    json.dump(obj=all_texts, fp=f)"
   ]
  },
  {
   "cell_type": "code",
   "execution_count": 20,
   "metadata": {},
   "outputs": [
    {
     "data": {
      "text/plain": [
       "True"
      ]
     },
     "execution_count": 20,
     "metadata": {},
     "output_type": "execute_result"
    }
   ],
   "source": [
    "# проверяем список и сохраненный файл на идентичность\n",
    "\n",
    "with open('/Users/Nikol/Desktop/ВКР/sudact/all_texts.json') as f:\n",
    "    all_texts1 = json.load(f)\n",
    "\n",
    "all_texts1 == all_texts"
   ]
  }
 ],
 "metadata": {
  "kernelspec": {
   "display_name": "Python 3",
   "language": "python",
   "name": "python3"
  },
  "language_info": {
   "codemirror_mode": {
    "name": "ipython",
    "version": 3
   },
   "file_extension": ".py",
   "mimetype": "text/x-python",
   "name": "python",
   "nbconvert_exporter": "python",
   "pygments_lexer": "ipython3",
   "version": "3.7.0"
  }
 },
 "nbformat": 4,
 "nbformat_minor": 2
}
