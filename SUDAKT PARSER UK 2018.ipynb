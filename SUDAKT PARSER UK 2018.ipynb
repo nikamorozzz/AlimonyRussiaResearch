{
 "cells": [
  {
   "cell_type": "markdown",
   "metadata": {},
   "source": [
    "# Скачивание текстов судебных решений\n",
    "\n",
    "ВКР \"Алименты в России: медиапроект, основанный на данных\"\n",
    "\n",
    "Морозова Николь, НИУ ВШЭ, магистерская программа Журналистика данных\n",
    "\n",
    "Руководитель: м.с.н., Груздев И.А."
   ]
  },
  {
   "cell_type": "code",
   "execution_count": 1,
   "metadata": {},
   "outputs": [],
   "source": [
    "from selenium import webdriver\n",
    "from selenium.webdriver.common.by import By\n",
    "from selenium.webdriver.support.ui import WebDriverWait\n",
    "from selenium.webdriver.support import expected_conditions as EC\n",
    "chrome_path = r'/Users/Nikol/Desktop/ВКР/sudact/chromedriver' #path from 'which chromedriver'"
   ]
  },
  {
   "cell_type": "code",
   "execution_count": 2,
   "metadata": {},
   "outputs": [],
   "source": [
    "def get_links(url):\n",
    "    driver = webdriver.Chrome(executable_path=chrome_path)\n",
    "    driver.get(url)\n",
    "\n",
    "    lst_of_links = set([])\n",
    "    do_more_search = True\n",
    "\n",
    "    while do_more_search:\n",
    "\n",
    "        element = WebDriverWait(driver, 10).until(\n",
    "            EC.presence_of_element_located((By.CLASS_NAME, \"page-next\"))\n",
    "        )\n",
    "        results = driver.find_element_by_class_name('results')\n",
    "        for i in results.find_elements_by_tag_name('a'):\n",
    "            link = i.get_attribute('href')\n",
    "            if link in lst_of_links:\n",
    "                do_more_search = False\n",
    "            else:\n",
    "                lst_of_links.add(link)\n",
    "        next_btn = driver.find_element_by_class_name('page-next')\n",
    "        next_btn.click()\n",
    "\n",
    "    lst_of_links = list(lst_of_links)\n",
    "    return lst_of_links"
   ]
  },
  {
   "cell_type": "code",
   "execution_count": null,
   "metadata": {},
   "outputs": [],
   "source": [
    "# Собираем ссылки на тексты в список\n",
    "\n",
    "# 1 января 2018 – 31 марта 2018\n",
    "url_1 = 'https://sudact.ru/regular/doc/?regular-txt=&regular-case_doc=&regular-lawchunkinfo=%D0%A1%D1%82%D0%B0%D1%82%D1%8C%D1%8F+157.+%D0%9D%D0%B5%D1%83%D0%BF%D0%BB%D0%B0%D1%82%D0%B0+%D1%81%D1%80%D0%B5%D0%B4%D1%81%D1%82%D0%B2+%D0%BD%D0%B0+%D1%81%D0%BE%D0%B4%D0%B5%D1%80%D0%B6%D0%B0%D0%BD%D0%B8%D0%B5+%D0%B4%D0%B5%D1%82%D0%B5%D0%B9+%D0%B8%D0%BB%D0%B8+%D0%BD%D0%B5%D1%82%D1%80%D1%83%D0%B4%D0%BE%D1%81%D0%BF%D0%BE%D1%81%D0%BE%D0%B1%D0%BD%D1%8B%D1%85+%D1%80%D0%BE%D0%B4%D0%B8%D1%82%D0%B5%D0%BB%D0%B5%D0%B9%28%D0%A3%D0%9A+%D0%A0%D0%A4%29&regular-date_from=01.01.2018&regular-date_to=31.03.2018&regular-workflow_stage=10&regular-area=&regular-court=&regular-judge=#searchResult'\n",
    "lst_1 = get_links(url_1)\n",
    "\n",
    "# 1 апреля 2018 – 31 мая 2018\n",
    "url_2 = 'https://sudact.ru/regular/doc/?regular-txt=&regular-case_doc=&regular-lawchunkinfo=%D0%A1%D1%82%D0%B0%D1%82%D1%8C%D1%8F+157.+%D0%9D%D0%B5%D1%83%D0%BF%D0%BB%D0%B0%D1%82%D0%B0+%D1%81%D1%80%D0%B5%D0%B4%D1%81%D1%82%D0%B2+%D0%BD%D0%B0+%D1%81%D0%BE%D0%B4%D0%B5%D1%80%D0%B6%D0%B0%D0%BD%D0%B8%D0%B5+%D0%B4%D0%B5%D1%82%D0%B5%D0%B9+%D0%B8%D0%BB%D0%B8+%D0%BD%D0%B5%D1%82%D1%80%D1%83%D0%B4%D0%BE%D1%81%D0%BF%D0%BE%D1%81%D0%BE%D0%B1%D0%BD%D1%8B%D1%85+%D1%80%D0%BE%D0%B4%D0%B8%D1%82%D0%B5%D0%BB%D0%B5%D0%B9%28%D0%A3%D0%9A+%D0%A0%D0%A4%29&regular-date_from=01.04.2018&regular-date_to=31.05.2018&regular-workflow_stage=10&regular-area=&regular-court=&regular-judge=#searchResult'\n",
    "lst_2 = get_links(url_2)\n",
    "\n",
    "# 1 июня 2018 – 31 июля 2018\n",
    "url_3 = 'https://sudact.ru/regular/doc/?regular-txt=&regular-case_doc=&regular-lawchunkinfo=%D0%A1%D1%82%D0%B0%D1%82%D1%8C%D1%8F+157.+%D0%9D%D0%B5%D1%83%D0%BF%D0%BB%D0%B0%D1%82%D0%B0+%D1%81%D1%80%D0%B5%D0%B4%D1%81%D1%82%D0%B2+%D0%BD%D0%B0+%D1%81%D0%BE%D0%B4%D0%B5%D1%80%D0%B6%D0%B0%D0%BD%D0%B8%D0%B5+%D0%B4%D0%B5%D1%82%D0%B5%D0%B9+%D0%B8%D0%BB%D0%B8+%D0%BD%D0%B5%D1%82%D1%80%D1%83%D0%B4%D0%BE%D1%81%D0%BF%D0%BE%D1%81%D0%BE%D0%B1%D0%BD%D1%8B%D1%85+%D1%80%D0%BE%D0%B4%D0%B8%D1%82%D0%B5%D0%BB%D0%B5%D0%B9%28%D0%A3%D0%9A+%D0%A0%D0%A4%29&regular-date_from=01.06.2018&regular-date_to=31.07.2018&regular-workflow_stage=10&regular-area=&regular-court=&regular-judge=#searchResult'\n",
    "lst_3 = get_links(url_3)\n",
    "\n",
    "# 1 августа 2018 – 30 сентября 2018\n",
    "url_4 = 'https://sudact.ru/regular/doc/?regular-txt=&regular-case_doc=&regular-lawchunkinfo=%D0%A1%D1%82%D0%B0%D1%82%D1%8C%D1%8F+157.+%D0%9D%D0%B5%D1%83%D0%BF%D0%BB%D0%B0%D1%82%D0%B0+%D1%81%D1%80%D0%B5%D0%B4%D1%81%D1%82%D0%B2+%D0%BD%D0%B0+%D1%81%D0%BE%D0%B4%D0%B5%D1%80%D0%B6%D0%B0%D0%BD%D0%B8%D0%B5+%D0%B4%D0%B5%D1%82%D0%B5%D0%B9+%D0%B8%D0%BB%D0%B8+%D0%BD%D0%B5%D1%82%D1%80%D1%83%D0%B4%D0%BE%D1%81%D0%BF%D0%BE%D1%81%D0%BE%D0%B1%D0%BD%D1%8B%D1%85+%D1%80%D0%BE%D0%B4%D0%B8%D1%82%D0%B5%D0%BB%D0%B5%D0%B9%28%D0%A3%D0%9A+%D0%A0%D0%A4%29&regular-date_from=01.08.2018&regular-date_to=30.09.2018&regular-workflow_stage=10&regular-area=&regular-court=&regular-judge=#searchResult'\n",
    "lst_4 = get_links(url_4)\n",
    "\n",
    "# 1 октября 2018 – 31 декабря 2018\n",
    "url_5 = 'https://sudact.ru/regular/doc/?regular-txt=&regular-case_doc=&regular-lawchunkinfo=%D0%A1%D1%82%D0%B0%D1%82%D1%8C%D1%8F+157.+%D0%9D%D0%B5%D1%83%D0%BF%D0%BB%D0%B0%D1%82%D0%B0+%D1%81%D1%80%D0%B5%D0%B4%D1%81%D1%82%D0%B2+%D0%BD%D0%B0+%D1%81%D0%BE%D0%B4%D0%B5%D1%80%D0%B6%D0%B0%D0%BD%D0%B8%D0%B5+%D0%B4%D0%B5%D1%82%D0%B5%D0%B9+%D0%B8%D0%BB%D0%B8+%D0%BD%D0%B5%D1%82%D1%80%D1%83%D0%B4%D0%BE%D1%81%D0%BF%D0%BE%D1%81%D0%BE%D0%B1%D0%BD%D1%8B%D1%85+%D1%80%D0%BE%D0%B4%D0%B8%D1%82%D0%B5%D0%BB%D0%B5%D0%B9%28%D0%A3%D0%9A+%D0%A0%D0%A4%29&regular-date_from=01.10.2018&regular-date_to=31.12.2018&regular-workflow_stage=10&regular-area=&regular-court=&regular-judge=#searchResult'\n",
    "lst_5 = get_links(url_5)\n",
    "\n",
    "all_links = lst_1+lst_2+lst_3+lst_4+lst_5"
   ]
  },
  {
   "cell_type": "code",
   "execution_count": null,
   "metadata": {},
   "outputs": [],
   "source": [
    "# Мы получили список ссылок на тексты судебных решений\n",
    "print('Собрано ссылок: {}.'.format(len(all_links)))"
   ]
  },
  {
   "cell_type": "code",
   "execution_count": 130,
   "metadata": {},
   "outputs": [
    {
     "data": {
      "application/vnd.jupyter.widget-view+json": {
       "model_id": "9b521000d52c4fa085b4210371b4778a",
       "version_major": 2,
       "version_minor": 0
      },
      "text/plain": [
       "HBox(children=(FloatProgress(value=0.0, max=177.0), HTML(value='')))"
      ]
     },
     "metadata": {},
     "output_type": "display_data"
    },
    {
     "name": "stdout",
     "output_type": "stream",
     "text": [
      "\n"
     ]
    }
   ],
   "source": [
    "# Скачиваем тексты, собираем их в список\n",
    "all_texts = []\n",
    "for element in tqdm(all_links):\n",
    "    driver = webdriver.Chrome(executable_path=chrome_path)\n",
    "    driver.get(element)\n",
    "    page_text = driver.find_element_by_class_name('h-content-wrap2')\n",
    "    all_texts.append(page_text.text)\n",
    "    driver.quit()"
   ]
  },
  {
   "cell_type": "code",
   "execution_count": null,
   "metadata": {},
   "outputs": [],
   "source": [
    "# Мы получили список, состоящий из текстов\n",
    "print('Собрано текстов: {}.'.format(len(all_texts)))"
   ]
  },
  {
   "cell_type": "code",
   "execution_count": 159,
   "metadata": {},
   "outputs": [],
   "source": [
    "import json\n",
    "\n",
    "with open('/Users/Nikol/Desktop/ВКР/sudact/sudact_157_uk_2018.json', 'w+') as f:\n",
    "    json.dump(obj=uk_texts, fp=f)"
   ]
  },
  {
   "cell_type": "code",
   "execution_count": 160,
   "metadata": {},
   "outputs": [
    {
     "data": {
      "text/plain": [
       "True"
      ]
     },
     "execution_count": 160,
     "metadata": {},
     "output_type": "execute_result"
    }
   ],
   "source": [
    "with open('/Users/Nikol/Desktop/ВКР/sudact/sudact_157_uk_2018.json') as f:\n",
    "    uk_texts_2018 = json.load(f)\n",
    "\n",
    "uk_texts_2018 == uk_texts"
   ]
  }
 ],
 "metadata": {
  "kernelspec": {
   "display_name": "Python 3",
   "language": "python",
   "name": "python3"
  },
  "language_info": {
   "codemirror_mode": {
    "name": "ipython",
    "version": 3
   },
   "file_extension": ".py",
   "mimetype": "text/x-python",
   "name": "python",
   "nbconvert_exporter": "python",
   "pygments_lexer": "ipython3",
   "version": "3.7.0"
  }
 },
 "nbformat": 4,
 "nbformat_minor": 2
}
